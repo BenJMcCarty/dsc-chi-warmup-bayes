{
 "cells": [
  {
   "cell_type": "markdown",
   "metadata": {},
   "source": [
    "# Practice with Bayes\n",
    "\n",
    "\n",
    "Thomas Bayes           |  Bayes Theorum\n",
    ":-------------------------:|:-------------------------:\n",
    "![](images/thom-bayes.gif)  |  ![](images/bayes.png)"
   ]
  },
  {
   "cell_type": "code",
   "execution_count": 1,
   "metadata": {
    "ExecuteTime": {
     "end_time": "2021-07-06T18:15:33.739209Z",
     "start_time": "2021-07-06T18:15:33.229211Z"
    }
   },
   "outputs": [],
   "source": [
    "# Run this cell unchanged.\n",
    "from test import Test\n",
    "test = Test()"
   ]
  },
  {
   "cell_type": "markdown",
   "metadata": {},
   "source": [
    "# #1 Write a function\n",
    "\n",
    "<u><b>Define a function called ```bayes``` that receive 3 parameters:</b></u>\n",
    "1. b_given_a\n",
    "2. a\n",
    "3. b\n",
    "\n",
    "And returns the probability for A|B"
   ]
  },
  {
   "cell_type": "code",
   "execution_count": 2,
   "metadata": {
    "ExecuteTime": {
     "end_time": "2021-07-06T18:17:02.920542Z",
     "start_time": "2021-07-06T18:17:02.904539Z"
    }
   },
   "outputs": [],
   "source": [
    "def bayes(P_a, P_b, P_b_given_a):\n",
    "    P_a_given_b = (P_b_given_a * P_a)/P_b\n",
    "    return P_a_given_b"
   ]
  },
  {
   "cell_type": "markdown",
   "metadata": {},
   "source": [
    "# #2 You've Got Mail!"
   ]
  },
  {
   "cell_type": "markdown",
   "metadata": {},
   "source": [
    "**📩You receive an email and your spam detector has classified the email as spam.📩** \n",
    "\n",
    "Assume that: \n",
    "- 5% of emails you receive are spam \n",
    "- The spam detector correctly identifies spam 99% of the time\n",
    "- Emails are incorrectly marked as spam 0.2% of the time. \n",
    "\n",
    "*Hint*\n",
    "\n",
    ">P(B) = P(B|A) × P(A) + P(B|not A) × P(not A) = P(Detected) = P(Detected|Spam) × P(Spam) + P(Detected|not Spam) × P(not Spam)\n",
    "\n",
    "<u><b>What is the probability the email is spam?</b></u>"
   ]
  },
  {
   "cell_type": "code",
   "execution_count": 17,
   "metadata": {
    "ExecuteTime": {
     "end_time": "2021-07-06T18:34:07.942568Z",
     "start_time": "2021-07-06T18:34:07.898567Z"
    }
   },
   "outputs": [
    {
     "data": {
      "text/plain": [
       "0.9630350194552529"
      ]
     },
     "execution_count": 17,
     "metadata": {},
     "output_type": "execute_result"
    }
   ],
   "source": [
    "# Your code here\n",
    "P_spam = .05\n",
    "\n",
    "P_detected_given_spam = .99\n",
    "P_detected_not_spam = .002\n",
    "\n",
    "P_detected = P_detected_given_spam*P_spam + P_detected_not_spam*P_not_spam\n",
    "\n",
    "a_given_b = bayes(P_spam, P_detected, P_detected_given_spam)\n",
    "a_given_b"
   ]
  },
  {
   "cell_type": "code",
   "execution_count": 18,
   "metadata": {
    "ExecuteTime": {
     "end_time": "2021-07-06T18:34:11.573007Z",
     "start_time": "2021-07-06T18:34:11.564011Z"
    }
   },
   "outputs": [],
   "source": [
    "# # Your code here\n",
    "\n",
    "# a = .05\n",
    "# b_given_a = .99\n",
    "# b = b_given_a * a + .002 * (1-a)\n",
    "# a_given_b = bayes(a, b, b_given_a)\n",
    "# a_given_b"
   ]
  },
  {
   "cell_type": "markdown",
   "metadata": {},
   "source": [
    "*Run the cell below to check your answer*\n",
    ">(Do not round your answer)"
   ]
  },
  {
   "cell_type": "code",
   "execution_count": 19,
   "metadata": {
    "ExecuteTime": {
     "end_time": "2021-07-06T18:34:12.150983Z",
     "start_time": "2021-07-06T18:34:12.136975Z"
    }
   },
   "outputs": [
    {
     "data": {
      "text/markdown": [
       "✅ **Hey, you did it.  Good job.**"
      ],
      "text/plain": [
       "<IPython.core.display.Markdown object>"
      ]
     },
     "metadata": {},
     "output_type": "display_data"
    }
   ],
   "source": [
    "test.run_test(a_given_b, 'spam')"
   ]
  },
  {
   "cell_type": "markdown",
   "metadata": {},
   "source": [
    "# #3 Weather Weather Weather\n",
    "\n",
    "<img src=\"images/clouds.png\">\n",
    "\n",
    "<u><b>☁️You wake up and the sky is cloudy☁️</b></u>\n",
    "\n",
    "- There is a 30% chance of it raining on any given day 💧\n",
    "- On days when it rains there is a 95% chance of it being cloudy 🌧️\n",
    "- On days when it does not rain, 25% of the time there are dark clouds in the sky.\n",
    "\n",
    "<u><b>What is the probability that it will rain?</b></u>\n",
    "\n",
    "<img src=\"images/clouds.png\">\n"
   ]
  },
  {
   "cell_type": "code",
   "execution_count": 40,
   "metadata": {
    "ExecuteTime": {
     "end_time": "2021-07-06T18:49:32.673234Z",
     "start_time": "2021-07-06T18:49:32.653232Z"
    }
   },
   "outputs": [
    {
     "data": {
      "text/plain": [
       "0.6195652173913043"
      ]
     },
     "execution_count": 40,
     "metadata": {},
     "output_type": "execute_result"
    }
   ],
   "source": [
    "## P_rain_given_cloudy\n",
    "P_rain = .3\n",
    "P_not_rain = 1 - P_rain\n",
    "\n",
    "P_cloudy_given_rain = .95\n",
    "P_cloudy_given_not_rain = .25\n",
    "\n",
    "P_cloudy = .95*.3 + .25*.7\n",
    "\n",
    "P_rain_given_cloudy = bayes(P_rain, P_cloudy, P_cloudy_given_rain)\n",
    "P_rain_given_cloudy"
   ]
  },
  {
   "cell_type": "code",
   "execution_count": 46,
   "metadata": {
    "ExecuteTime": {
     "end_time": "2021-07-06T19:22:21.732104Z",
     "start_time": "2021-07-06T19:22:21.711109Z"
    }
   },
   "outputs": [
    {
     "data": {
      "text/plain": [
       "0.6195652173913043"
      ]
     },
     "execution_count": 46,
     "metadata": {},
     "output_type": "execute_result"
    }
   ],
   "source": [
    "# Your code here\n",
    "b_given_a = .95                     ## cloudy given rain\n",
    "a = .3                              ## rain\n",
    "b = .95 * .3 + .25 * (1-a)          ## cloudy = (cloudy given rain)*(rain) + (cloudy not rain)*(not rain)\n",
    "a_given_b = bayes(a, b, b_given_a)  ## rain given clouds = \n",
    "a_given_b"
   ]
  },
  {
   "cell_type": "markdown",
   "metadata": {},
   "source": [
    "*Run the cell below to check your answer*"
   ]
  },
  {
   "cell_type": "code",
   "execution_count": 47,
   "metadata": {
    "ExecuteTime": {
     "end_time": "2021-07-06T19:22:22.376850Z",
     "start_time": "2021-07-06T19:22:22.365858Z"
    }
   },
   "outputs": [
    {
     "data": {
      "text/markdown": [
       "✅ **Hey, you did it.  Good job.**"
      ],
      "text/plain": [
       "<IPython.core.display.Markdown object>"
      ]
     },
     "metadata": {},
     "output_type": "display_data"
    }
   ],
   "source": [
    "test.run_test(a_given_b, 'rain')"
   ]
  },
  {
   "cell_type": "markdown",
   "metadata": {},
   "source": [
    "# #4 Parenthood"
   ]
  },
  {
   "cell_type": "markdown",
   "metadata": {},
   "source": [
    "You are on a jury considering a paternity suit.  The mother has blood type O, and the alleged father has blood type AB.\n",
    "\n",
    "A blood test shows that the child has blood type B.   What is the chance that the alleged father is in fact the real father, given that the child has blood type B?\n",
    "\n",
    "Here's some information we need to solve the problem.  According to genetics, there is a 50% chance that this child will have blood type B if t/his alleged father is the real father, and based on rates of B genes in the population, there is a 9% chance that this child would have blood type B if this alleged father is not the real father.\n",
    "\n",
    "Based on other evidence (e.g., testimonials, physical evidence, records) presented before the DNA test, you believe there is a 75% chance that the alleged father is the real father.  This assessment is your prior belief.  Now, we need to use Bayes Rule to update it for the results of the child's blood test."
   ]
  },
  {
   "cell_type": "code",
   "execution_count": 43,
   "metadata": {
    "ExecuteTime": {
     "end_time": "2021-07-06T18:54:59.759701Z",
     "start_time": "2021-07-06T18:54:59.740687Z"
    }
   },
   "outputs": [
    {
     "data": {
      "text/plain": [
       "0.3975"
      ]
     },
     "execution_count": 43,
     "metadata": {},
     "output_type": "execute_result"
    }
   ],
   "source": [
    "P_Tb_given_father = .5\n",
    "P_Tb_given_not_father = .09\n",
    "\n",
    "P_father = .75\n",
    "\n",
    "P_Tb =  P_Tb_given_father*P_father + P_Tb_given_not_father*(1-P_father)\n",
    "P_Tb"
   ]
  },
  {
   "cell_type": "code",
   "execution_count": 44,
   "metadata": {
    "ExecuteTime": {
     "end_time": "2021-07-06T18:55:30.964119Z",
     "start_time": "2021-07-06T18:55:30.956117Z"
    }
   },
   "outputs": [
    {
     "data": {
      "text/plain": [
       "0.9433962264150942"
      ]
     },
     "execution_count": 44,
     "metadata": {},
     "output_type": "execute_result"
    }
   ],
   "source": [
    "a_given_b = bayes(P_father, P_Tb, P_Tb_given_father)\n",
    "a_given_b"
   ]
  },
  {
   "cell_type": "code",
   "execution_count": null,
   "metadata": {},
   "outputs": [],
   "source": [
    "# # Your code here\n",
    "# b_given_a = None\n",
    "# a = None\n",
    "# b = None\n",
    "# a_given_b = bayes(b_given_a, a, b)"
   ]
  },
  {
   "cell_type": "markdown",
   "metadata": {},
   "source": [
    "*Run the cell below to check your answer*"
   ]
  },
  {
   "cell_type": "code",
   "execution_count": 45,
   "metadata": {
    "ExecuteTime": {
     "end_time": "2021-07-06T18:55:37.523764Z",
     "start_time": "2021-07-06T18:55:37.516765Z"
    }
   },
   "outputs": [
    {
     "data": {
      "text/markdown": [
       "✅ **Hey, you did it.  Good job.**"
      ],
      "text/plain": [
       "<IPython.core.display.Markdown object>"
      ]
     },
     "metadata": {},
     "output_type": "display_data"
    }
   ],
   "source": [
    "test.run_test(a_given_b, 'father')"
   ]
  },
  {
   "cell_type": "code",
   "execution_count": null,
   "metadata": {},
   "outputs": [],
   "source": []
  }
 ],
 "metadata": {
  "hide_input": false,
  "kernelspec": {
   "display_name": "Python 3",
   "language": "python",
   "name": "python3"
  },
  "language_info": {
   "codemirror_mode": {
    "name": "ipython",
    "version": 3
   },
   "file_extension": ".py",
   "mimetype": "text/x-python",
   "name": "python",
   "nbconvert_exporter": "python",
   "pygments_lexer": "ipython3",
   "version": "3.8.5"
  },
  "toc": {
   "base_numbering": 1,
   "nav_menu": {},
   "number_sections": false,
   "sideBar": true,
   "skip_h1_title": true,
   "title_cell": "Table of Contents",
   "title_sidebar": "Contents",
   "toc_cell": false,
   "toc_position": {},
   "toc_section_display": true,
   "toc_window_display": false
  },
  "varInspector": {
   "cols": {
    "lenName": 16,
    "lenType": 16,
    "lenVar": 40
   },
   "kernels_config": {
    "python": {
     "delete_cmd_postfix": "",
     "delete_cmd_prefix": "del ",
     "library": "var_list.py",
     "varRefreshCmd": "print(var_dic_list())"
    },
    "r": {
     "delete_cmd_postfix": ") ",
     "delete_cmd_prefix": "rm(",
     "library": "var_list.r",
     "varRefreshCmd": "cat(var_dic_list()) "
    }
   },
   "types_to_exclude": [
    "module",
    "function",
    "builtin_function_or_method",
    "instance",
    "_Feature"
   ],
   "window_display": false
  }
 },
 "nbformat": 4,
 "nbformat_minor": 4
}
